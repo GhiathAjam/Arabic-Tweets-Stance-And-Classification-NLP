{
 "cells": [
  {
   "cell_type": "code",
   "execution_count": 1,
   "metadata": {},
   "outputs": [
    {
     "name": "stdout",
     "output_type": "stream",
     "text": [
      "['مات', 'شخص', 'في', 'النرويج', 'بعد', 'تلقي', 'لقاح', 'نيويورك', 'بوست', '<NUM>', '<NUM>', '<LF>', '<LINK>', 'COVID', 'COVID', 'COVID']\n"
     ]
    }
   ],
   "source": [
    "import pandas as pd\n",
    "import re\n",
    "import random\n",
    "\n",
    "from preprocess import Preprocess"
   ]
  },
  {
   "cell_type": "code",
   "execution_count": 2,
   "metadata": {},
   "outputs": [],
   "source": [
    "# p = Preprocess()\n",
    "# p.dediac('سشيشس')"
   ]
  },
  {
   "cell_type": "markdown",
   "metadata": {},
   "source": [
    "Stance detection labels meaning is as follows:\n",
    "1. Positive (1): means that the tweet author encourages and supports vaccination.\n",
    "2. Negative (-1): means that the tweet author refuses vaccination.\n",
    "3. Neutral (0): means that the tweet neither supports nor refuses vaccination.\n",
    "\n",
    "Category labels meaning is as follows:\n",
    "1. Info_News: Information about vaccination.\n",
    "2. Celebrities: mentioning celebrities taking vaccinations.\n",
    "3. Plan: Governmental plan or progress of vaccination.\n",
    "4. Request: Requests from governments regarding the vaccination process.\n",
    "5. Rumor: the tweet is a rumor.\n",
    "6. Advice: Advice related to the virus or the vaccination\n",
    "7. Restriction: Restrictions due to the virus e.g. traveling.\n",
    "8. Personal: Personal opinion or story about vaccination.\n",
    "9. Unrelated: Unrelated to vaccination.\n",
    "10.Others: Vaccination related but not one of the above."
   ]
  },
  {
   "cell_type": "code",
   "execution_count": 3,
   "metadata": {},
   "outputs": [],
   "source": [
    "t = pd.read_csv('./Dataset/train.csv')\n",
    "d = pd.read_csv('./Dataset/dev.csv')\n",
    "\n",
    "t.head()\n",
    "\n",
    "preprocess = Preprocess()"
   ]
  },
  {
   "cell_type": "code",
   "execution_count": 4,
   "metadata": {},
   "outputs": [
    {
     "name": "stdout",
     "output_type": "stream",
     "text": [
      "<class 'pandas.core.frame.DataFrame'>\n",
      "RangeIndex: 6988 entries, 0 to 6987\n",
      "Data columns (total 3 columns):\n",
      " #   Column    Non-Null Count  Dtype \n",
      "---  ------    --------------  ----- \n",
      " 0   text      6988 non-null   object\n",
      " 1   category  6988 non-null   object\n",
      " 2   stance    6988 non-null   int64 \n",
      "dtypes: int64(1), object(2)\n",
      "memory usage: 163.9+ KB\n",
      "None\n",
      "info_news       0.517459\n",
      "personal        0.146680\n",
      "celebrity       0.139525\n",
      "plan            0.086720\n",
      "unrelated       0.046222\n",
      "others          0.023898\n",
      "requests        0.016027\n",
      "rumors          0.011305\n",
      "advice          0.009588\n",
      "restrictions    0.002576\n",
      "Name: category, dtype: float64\n",
      " 1    0.792501\n",
      " 0    0.144820\n",
      "-1    0.062679\n",
      "Name: stance, dtype: float64\n",
      " 1    0.804\n",
      " 0    0.126\n",
      "-1    0.070\n",
      "Name: stance, dtype: float64\n"
     ]
    }
   ],
   "source": [
    "# analyze dataset\n",
    "print(t.info())\n",
    "# d\n",
    "# print(d.info())\n",
    "\n",
    "# count for each label\n",
    "print(t['category'].value_counts(normalize=True))\n",
    "# same for d\n",
    "# print(d['category'].value_counts(normalize=True))\n",
    "\n",
    "# count for stance labels\n",
    "print(t['stance'].value_counts(normalize=True))\n",
    "# d\n",
    "print(d['stance'].value_counts(normalize=True))"
   ]
  },
  {
   "cell_type": "code",
   "execution_count": 5,
   "metadata": {},
   "outputs": [],
   "source": [
    "X = t['text']\n",
    "Ys = t['stance']\n",
    "Yc = t['category']"
   ]
  },
  {
   "cell_type": "code",
   "execution_count": 6,
   "metadata": {},
   "outputs": [],
   "source": [
    "# # Tashkil, diacritization\n",
    "# X = X.apply(preprocess.dediac)\n",
    "\n",
    "# # replace:\n",
    "# # 1. links with <LINK>\n",
    "# # 2. numbers with <NUM>\n",
    "# # 3. Mentions (@USER) with <M>\n",
    "# # 4. english words with <EN> ??\n",
    "# X = X.apply(preprocess.tokens)\n",
    "\n",
    "# # remove punctuation BUT keep:\n",
    "# # 1. HasTags\n",
    "# # 2. <LINK>, <NUM>, <LF>, ...\n",
    "# X = X.apply(preprocess.remove_punctuation)\n",
    "\n",
    "# # Alef-Maksura\n",
    "# # Teh-Marbuta\n",
    "# # Alef\n",
    "# X = X.apply(preprocess.normalize)\n",
    "\n",
    "# # Tokenize!\n",
    "# X = X.apply(preprocess.tokenizer)\n",
    "\n",
    "# # Lemmatize\n",
    "# X = X.apply(preprocess.lemmatize)\n",
    "\n",
    "# # Stop Words\n",
    "# X = X.apply(preprocess.remove_stopwords)"
   ]
  },
  {
   "cell_type": "code",
   "execution_count": 7,
   "metadata": {},
   "outputs": [],
   "source": [
    "X = X.apply(preprocess.do_all)"
   ]
  },
  {
   "cell_type": "code",
   "execution_count": 8,
   "metadata": {},
   "outputs": [
    {
     "name": "stdout",
     "output_type": "stream",
     "text": [
      "عامل نظافة يدمر قرابة 2000 جرعة من لقاح كورونا في مركز طبي بمدينة بوسطن الأمريكية عندما فصل القابس الكهربائي عن الفريزر الذي يحوي اللقاحات خلال تنظيفه للمكان.<LF><LF>التحقيق جار في الحادثة لمعرفة سبب عدم عمل جهاز الإنذار، وكذلك إن كان العامل فصل التيار عمداً لشبك جهاز تنظيف مكانه. https://t.co/kfacvWWah2\n",
      "['عامل', 'نظافه', 'يدمر', 'قرابه', 'جرعه', 'من', 'لقاح', 'كورونا', 'في', 'مركز', 'طبي', 'بمدينه', 'بوسطن', 'الامريكيه', 'عندما', 'فصل', 'القابس', 'الكهربائي', 'عن', 'الفريزر', 'الذي', 'يحوي', 'اللقاحات', 'خلال', 'تنظيفه', 'للمكان', 'التحقيق', 'جار', 'في', 'الحادثه', 'لمعرفه', 'سبب', 'عدم', 'عمل', 'جهاز', 'الانذار', 'وكذلك', 'ان', 'كان', 'العامل', 'فصل', 'التيار', 'عمدا', 'لشبك', 'جهاز', 'تنظيف', 'مكانه', '<NUM>', '<LF>', '<LF>', '<LINK>']\n"
     ]
    }
   ],
   "source": [
    "r = random.randint(0, len(X))\n",
    "print(t.text[r])\n",
    "print(X[r])"
   ]
  },
  {
   "cell_type": "code",
   "execution_count": null,
   "metadata": {},
   "outputs": [],
   "source": []
  }
 ],
 "metadata": {
  "kernelspec": {
   "display_name": "Python 3",
   "language": "python",
   "name": "python3"
  },
  "language_info": {
   "codemirror_mode": {
    "name": "ipython",
    "version": 3
   },
   "file_extension": ".py",
   "mimetype": "text/x-python",
   "name": "python",
   "nbconvert_exporter": "python",
   "pygments_lexer": "ipython3",
   "version": "3.10.3"
  },
  "orig_nbformat": 4,
  "vscode": {
   "interpreter": {
    "hash": "26de051ba29f2982a8de78e945f0abaf191376122a1563185a90213a26c5da77"
   }
  }
 },
 "nbformat": 4,
 "nbformat_minor": 2
}
