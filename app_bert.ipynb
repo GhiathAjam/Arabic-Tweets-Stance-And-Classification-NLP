{
  "cells": [
    {
      "cell_type": "code",
      "execution_count": 16,
      "metadata": {
        "colab": {
          "base_uri": "https://localhost:8080/"
        },
        "id": "prvnpGWH4q5K",
        "outputId": "cd9c87d5-6ee2-4a6e-dc9a-444a5f194278"
      },
      "outputs": [
        {
          "name": "stdout",
          "output_type": "stream",
          "text": [
            "Archive:  /content/Dataset.zip\n",
            "   creating: Dataset/\n",
            "  inflating: Dataset/classification_train_sample1.csv  \n",
            "  inflating: Dataset/dev.csv         \n",
            "  inflating: Dataset/stance_train_sample1.csv  \n",
            "  inflating: Dataset/train.csv       \n"
          ]
        }
      ],
      "source": [
        "# You'll only need this cell if you run this notebook on colab\n",
        "# don't forget to zip the dataset folder then upload it\n",
        "# !rm -rf Dataset\n",
        "# !unzip \"/content/Dataset.zip\" "
      ]
    },
    {
      "cell_type": "code",
      "execution_count": null,
      "metadata": {
        "colab": {
          "base_uri": "https://localhost:8080/"
        },
        "id": "FDqph7b74jTB",
        "outputId": "20f70cba-3c40-4806-ccf4-e6e3f9b56cf8"
      },
      "outputs": [
        {
          "name": "stdout",
          "output_type": "stream",
          "text": [
            "Looking in indexes: https://pypi.org/simple, https://us-python.pkg.dev/colab-wheels/public/simple/\n",
            "Requirement already satisfied: arabert in /usr/local/lib/python3.8/dist-packages (1.0.1)\n",
            "Requirement already satisfied: emoji==1.4.2 in /usr/local/lib/python3.8/dist-packages (from arabert) (1.4.2)\n",
            "Requirement already satisfied: PyArabic in /usr/local/lib/python3.8/dist-packages (from arabert) (0.6.15)\n",
            "Requirement already satisfied: farasapy in /usr/local/lib/python3.8/dist-packages (from arabert) (0.0.14)\n",
            "Requirement already satisfied: tqdm in /usr/local/lib/python3.8/dist-packages (from farasapy->arabert) (4.64.1)\n",
            "Requirement already satisfied: requests in /usr/local/lib/python3.8/dist-packages (from farasapy->arabert) (2.23.0)\n",
            "Requirement already satisfied: six>=1.14.0 in /usr/local/lib/python3.8/dist-packages (from PyArabic->arabert) (1.15.0)\n",
            "Requirement already satisfied: certifi>=2017.4.17 in /usr/local/lib/python3.8/dist-packages (from requests->farasapy->arabert) (2022.12.7)\n",
            "Requirement already satisfied: idna<3,>=2.5 in /usr/local/lib/python3.8/dist-packages (from requests->farasapy->arabert) (2.10)\n",
            "Requirement already satisfied: urllib3!=1.25.0,!=1.25.1,<1.26,>=1.21.1 in /usr/local/lib/python3.8/dist-packages (from requests->farasapy->arabert) (1.24.3)\n",
            "Requirement already satisfied: chardet<4,>=3.0.2 in /usr/local/lib/python3.8/dist-packages (from requests->farasapy->arabert) (3.0.4)\n",
            "Looking in indexes: https://pypi.org/simple, https://us-python.pkg.dev/colab-wheels/public/simple/\n",
            "Requirement already satisfied: transformers in /usr/local/lib/python3.8/dist-packages (4.25.1)\n",
            "Requirement already satisfied: tokenizers!=0.11.3,<0.14,>=0.11.1 in /usr/local/lib/python3.8/dist-packages (from transformers) (0.13.2)\n",
            "Requirement already satisfied: regex!=2019.12.17 in /usr/local/lib/python3.8/dist-packages (from transformers) (2022.6.2)\n",
            "Requirement already satisfied: pyyaml>=5.1 in /usr/local/lib/python3.8/dist-packages (from transformers) (6.0)\n",
            "Requirement already satisfied: numpy>=1.17 in /usr/local/lib/python3.8/dist-packages (from transformers) (1.21.6)\n",
            "Requirement already satisfied: huggingface-hub<1.0,>=0.10.0 in /usr/local/lib/python3.8/dist-packages (from transformers) (0.11.1)\n",
            "Requirement already satisfied: packaging>=20.0 in /usr/local/lib/python3.8/dist-packages (from transformers) (21.3)\n",
            "Requirement already satisfied: tqdm>=4.27 in /usr/local/lib/python3.8/dist-packages (from transformers) (4.64.1)\n",
            "Requirement already satisfied: filelock in /usr/local/lib/python3.8/dist-packages (from transformers) (3.8.2)\n",
            "Requirement already satisfied: requests in /usr/local/lib/python3.8/dist-packages (from transformers) (2.23.0)\n",
            "Requirement already satisfied: typing-extensions>=3.7.4.3 in /usr/local/lib/python3.8/dist-packages (from huggingface-hub<1.0,>=0.10.0->transformers) (4.4.0)\n",
            "Requirement already satisfied: pyparsing!=3.0.5,>=2.0.2 in /usr/local/lib/python3.8/dist-packages (from packaging>=20.0->transformers) (3.0.9)\n",
            "Requirement already satisfied: chardet<4,>=3.0.2 in /usr/local/lib/python3.8/dist-packages (from requests->transformers) (3.0.4)\n",
            "Requirement already satisfied: idna<3,>=2.5 in /usr/local/lib/python3.8/dist-packages (from requests->transformers) (2.10)\n",
            "Requirement already satisfied: certifi>=2017.4.17 in /usr/local/lib/python3.8/dist-packages (from requests->transformers) (2022.12.7)\n",
            "Requirement already satisfied: urllib3!=1.25.0,!=1.25.1,<1.26,>=1.21.1 in /usr/local/lib/python3.8/dist-packages (from requests->transformers) (1.24.3)\n"
          ]
        }
      ],
      "source": [
        "!pip install arabert\n",
        "!pip install transformers"
      ]
    },
    {
      "cell_type": "code",
      "execution_count": 2,
      "metadata": {
        "id": "aayXYZGd4jTG"
      },
      "outputs": [
        {
          "name": "stderr",
          "output_type": "stream",
          "text": [
            "c:\\Users\\User\\AppData\\Local\\Programs\\Python\\Python310\\lib\\site-packages\\tqdm\\auto.py:22: TqdmWarning: IProgress not found. Please update jupyter and ipywidgets. See https://ipywidgets.readthedocs.io/en/stable/user_install.html\n",
            "  from .autonotebook import tqdm as notebook_tqdm\n"
          ]
        }
      ],
      "source": [
        "import pandas as pd\n",
        "import re\n",
        "import random\n",
        "from tqdm import tqdm\n",
        "import numpy as np\n",
        "# Can use this library to reload a specific module if the notebook can't see changes in the imported module\n",
        "import importlib\n",
        "import utils\n",
        "from arabert.preprocess import ArabertPreprocessor\n",
        "from bert import AraBERTDataset, BertClassifier, train"
      ]
    },
    {
      "cell_type": "markdown",
      "metadata": {
        "id": "UYX9P6GC4jTH"
      },
      "source": [
        "Stance detection labels meaning is as follows:\n",
        "1. Positive (1): means that the tweet author encourages and supports vaccination.\n",
        "2. Negative (-1): means that the tweet author refuses vaccination.\n",
        "3. Neutral (0): means that the tweet neither supports nor refuses vaccination.\n",
        "\n",
        "Category labels meaning is as follows:\n",
        "1. Info_News: Information about vaccination.\n",
        "2. Celebrities: mentioning celebrities taking vaccinations.\n",
        "3. Plan: Governmental plan or progress of vaccination.\n",
        "4. Request: Requests from governments regarding the vaccination process.\n",
        "5. Rumor: the tweet is a rumor.\n",
        "6. Advice: Advice related to the virus or the vaccination\n",
        "7. Restriction: Restrictions due to the virus e.g. traveling.\n",
        "8. Personal: Personal opinion or story about vaccination.\n",
        "9. Unrelated: Unrelated to vaccination.\n",
        "10.Others: Vaccination related but not one of the above."
      ]
    },
    {
      "cell_type": "code",
      "execution_count": 4,
      "metadata": {
        "colab": {
          "base_uri": "https://localhost:8080/",
          "height": 206
        },
        "id": "yE2_sx7o4jTJ",
        "outputId": "f18a4922-cee1-4cc8-db10-d1a615e50e3a"
      },
      "outputs": [
        {
          "data": {
            "text/html": [
              "<div>\n",
              "<style scoped>\n",
              "    .dataframe tbody tr th:only-of-type {\n",
              "        vertical-align: middle;\n",
              "    }\n",
              "\n",
              "    .dataframe tbody tr th {\n",
              "        vertical-align: top;\n",
              "    }\n",
              "\n",
              "    .dataframe thead th {\n",
              "        text-align: right;\n",
              "    }\n",
              "</style>\n",
              "<table border=\"1\" class=\"dataframe\">\n",
              "  <thead>\n",
              "    <tr style=\"text-align: right;\">\n",
              "      <th></th>\n",
              "      <th>text</th>\n",
              "      <th>stance</th>\n",
              "    </tr>\n",
              "  </thead>\n",
              "  <tbody>\n",
              "    <tr>\n",
              "      <th>0</th>\n",
              "      <td>بيل غيتس يتلقى لقاح #كوفيد19 من غير تصوير الاب...</td>\n",
              "      <td>1</td>\n",
              "    </tr>\n",
              "    <tr>\n",
              "      <th>1</th>\n",
              "      <td>وزير الصحة لحد اليوم وتحديدا هلأ بمؤتمروا الصح...</td>\n",
              "      <td>1</td>\n",
              "    </tr>\n",
              "    <tr>\n",
              "      <th>2</th>\n",
              "      <td>قولكن  رح يكونو اد المسؤولية ب لبنان لما يوصل ...</td>\n",
              "      <td>1</td>\n",
              "    </tr>\n",
              "    <tr>\n",
              "      <th>3</th>\n",
              "      <td>#تركيا.. وزير الصحة فخر الدين قوجة يتلقى أول ج...</td>\n",
              "      <td>1</td>\n",
              "    </tr>\n",
              "    <tr>\n",
              "      <th>4</th>\n",
              "      <td>وئام وهاب يشتم الدول الخليجية في كل طلة اعلامي...</td>\n",
              "      <td>0</td>\n",
              "    </tr>\n",
              "  </tbody>\n",
              "</table>\n",
              "</div>"
            ],
            "text/plain": [
              "                                                text  stance\n",
              "0  بيل غيتس يتلقى لقاح #كوفيد19 من غير تصوير الاب...       1\n",
              "1  وزير الصحة لحد اليوم وتحديدا هلأ بمؤتمروا الصح...       1\n",
              "2  قولكن  رح يكونو اد المسؤولية ب لبنان لما يوصل ...       1\n",
              "3  #تركيا.. وزير الصحة فخر الدين قوجة يتلقى أول ج...       1\n",
              "4  وئام وهاب يشتم الدول الخليجية في كل طلة اعلامي...       0"
            ]
          },
          "execution_count": 4,
          "metadata": {},
          "output_type": "execute_result"
        }
      ],
      "source": [
        "t = pd.read_csv('./Dataset/stance_train_sample1.csv')\n",
        "d = pd.read_csv('./Dataset/dev.csv')\n",
        "\n",
        "t.head()"
      ]
    },
    {
      "cell_type": "code",
      "execution_count": 5,
      "metadata": {
        "colab": {
          "base_uri": "https://localhost:8080/"
        },
        "id": "w4HAmB0PK6hF",
        "outputId": "78972e50-021f-4478-cfc4-557d38f7d21f"
      },
      "outputs": [
        {
          "name": "stdout",
          "output_type": "stream",
          "text": [
            "<class 'pandas.core.frame.DataFrame'>\n",
            "RangeIndex: 16614 entries, 0 to 16613\n",
            "Data columns (total 2 columns):\n",
            " #   Column  Non-Null Count  Dtype \n",
            "---  ------  --------------  ----- \n",
            " 0   text    16614 non-null  object\n",
            " 1   stance  16614 non-null  int64 \n",
            "dtypes: int64(1), object(1)\n",
            "memory usage: 259.7+ KB\n",
            "None\n",
            "####################################\n",
            "counts for each stance label :\n",
            " 1    0.333333\n",
            " 0    0.333333\n",
            "-1    0.333333\n",
            "Name: stance, dtype: float64\n",
            " 1    0.804\n",
            " 0    0.126\n",
            "-1    0.070\n",
            "Name: stance, dtype: float64\n"
          ]
        }
      ],
      "source": [
        "# analyze dataset\n",
        "print(t.info())\n",
        "# d\n",
        "# print(d.info())\n",
        "\n",
        "# count for stance labels\n",
        "print(\"####################################\")\n",
        "print(\"counts for each stance label :\")\n",
        "print(t['stance'].value_counts(normalize=True))\n",
        "# d\n",
        "print(d['stance'].value_counts(normalize=True))"
      ]
    },
    {
      "cell_type": "markdown",
      "metadata": {
        "id": "Ligkefdf4jTV"
      },
      "source": [
        "## AraBERT model\n",
        "- We will use aubmindlab/bert-base-arabertv02-twitter\n",
        "- It's pre-trained on ~60M arabic tweets, and it encluded emojis in the training. "
      ]
    },
    {
      "cell_type": "markdown",
      "metadata": {
        "id": "m_yE3LOsy-Ts"
      },
      "source": [
        "#### Preprocess Data for Bert"
      ]
    },
    {
      "cell_type": "code",
      "execution_count": 6,
      "metadata": {
        "id": "hgkKWE5R4jTN"
      },
      "outputs": [],
      "source": [
        "# seperate train data from their labels\n",
        "X = t['text']\n",
        "\n",
        "Ys = t['stance']\n",
        "# needed to map classes_ids from -1, 0, 1 to 2, 0, 1 since model gave error when received a negative label.\n",
        "Ys = Ys.replace(utils.stance_classes_reverse)\n",
        "Ys = Ys.replace(utils.stance_classes)\n",
        "\n",
        "# Yc = t['category']\n",
        "# Yc = Yc.replace(utils.category_classes)\n",
        "\n",
        "# seperate validation data from their labels\n",
        "X_val = d['text']\n",
        "\n",
        "Ys_val = d['stance']\n",
        "Ys_val = Ys_val.replace(utils.stance_classes_reverse)\n",
        "Ys_val = Ys_val.replace(utils.stance_classes)\n",
        "\n",
        "# Yc_val = d['category']\n",
        "# Yc = Yc_val.replace(utils.category_classes)"
      ]
    },
    {
      "cell_type": "markdown",
      "metadata": {
        "id": "Ko0xeSOe0rRZ"
      },
      "source": [
        "#### Create Bert"
      ]
    },
    {
      "cell_type": "code",
      "execution_count": 8,
      "metadata": {
        "colab": {
          "base_uri": "https://localhost:8080/"
        },
        "id": "izAbUUp94jTZ",
        "outputId": "fd826af7-2ee8-4437-c384-bb1f1ff373b0"
      },
      "outputs": [
        {
          "name": "stderr",
          "output_type": "stream",
          "text": [
            "Some weights of the model checkpoint at aubmindlab/bert-base-arabertv02-twitter were not used when initializing BertModel: ['cls.predictions.decoder.weight', 'cls.predictions.transform.LayerNorm.bias', 'cls.predictions.decoder.bias', 'cls.predictions.transform.dense.weight', 'cls.predictions.transform.LayerNorm.weight', 'cls.predictions.bias', 'cls.predictions.transform.dense.bias']\n",
            "- This IS expected if you are initializing BertModel from the checkpoint of a model trained on another task or with another architecture (e.g. initializing a BertForSequenceClassification model from a BertForPreTraining model).\n",
            "- This IS NOT expected if you are initializing BertModel from the checkpoint of a model that you expect to be exactly identical (initializing a BertForSequenceClassification model from a BertForSequenceClassification model).\n",
            "Some weights of BertModel were not initialized from the model checkpoint at aubmindlab/bert-base-arabertv02-twitter and are newly initialized: ['bert.pooler.dense.bias', 'bert.pooler.dense.weight']\n",
            "You should probably TRAIN this model on a down-stream task to be able to use it for predictions and inference.\n"
          ]
        }
      ],
      "source": [
        "import torch\n",
        "model_name=\"aubmindlab/bert-base-arabertv02-twitter\"\n",
        "\n",
        "# load the preprocessing function they used to train their data on.\n",
        "arabert_prep = ArabertPreprocessor(model_name=model_name)\n",
        "X = X.apply(arabert_prep.preprocess)\n",
        "\n",
        "# instantiate train and validation datasets\n",
        "train_dataset = AraBERTDataset(X, Ys, model_name)\n",
        "val_dataset = AraBERTDataset(X_val, Ys_val, model_name)\n",
        "\n",
        "# create model\n",
        "model = BertClassifier(model_name, n_classes=3)\n",
        "\n",
        "# make the criterion cross entropy loss\n",
        "criterion = torch.nn.CrossEntropyLoss()\n",
        "\n",
        "# create the optimizer (Adam)\n",
        "optimizer = torch.optim.Adam(params=model.parameters(), lr=0.001)\n"
      ]
    },
    {
      "cell_type": "markdown",
      "metadata": {
        "id": "SCRFoiWa0n4z"
      },
      "source": [
        "#### Train Bert"
      ]
    },
    {
      "cell_type": "code",
      "execution_count": 24,
      "metadata": {
        "colab": {
          "base_uri": "https://localhost:8080/"
        },
        "id": "rAdvUGZV4jTb",
        "outputId": "52c45c5b-4564-44b0-ee46-d7adbfee1032"
      },
      "outputs": [
        {
          "name": "stdout",
          "output_type": "stream",
          "text": [
            "Epochs: 1 | train Loss: 0.04796833172440529 | train Accuracy: 0.6674491392801252 | train macro avg persision: {'precision': 0.6692294250348051, 'recall': 0.6674491392801252, 'f1-score': 0.667697570275341, 'support': 16614}\n",
            "\n",
            "Classification Report:               precision    recall  f1-score   support\n",
            "\n",
            "     Neutral     0.6245    0.6120    0.6181      5538\n",
            "    Positive     0.7369    0.6900    0.7127      5538\n",
            "    Negative     0.6463    0.7004    0.6723      5538\n",
            "\n",
            "    accuracy                         0.6674     16614\n",
            "   macro avg     0.6692    0.6674    0.6677     16614\n",
            "weighted avg     0.6692    0.6674    0.6677     16614\n",
            "\n",
            "\n",
            "Epochs: 1 | val Loss: 0.03928755223751068 | val Accuracy: 0.727 | val macro avg persision: {'precision': 0.5359176366223423, 'recall': 0.6665876964384427, 'f1-score': 0.5640528004463975, 'support': 1000}\n",
            "\n",
            "Classification Report:               precision    recall  f1-score   support\n",
            "\n",
            "     Neutral     0.3838    0.6032    0.4691       126\n",
            "    Positive     0.9528    0.7537    0.8417       804\n",
            "    Negative     0.2711    0.6429    0.3814        70\n",
            "\n",
            "    accuracy                         0.7270      1000\n",
            "   macro avg     0.5359    0.6666    0.5641      1000\n",
            "weighted avg     0.8334    0.7270    0.7625      1000\n",
            "\n",
            "\n",
            "Epochs: 2 | train Loss: 0.04198513552546501 | train Accuracy: 0.7187913807632117 | train macro avg persision: {'precision': 0.7233250262756625, 'recall': 0.7187913807632117, 'f1-score': 0.7193218061999116, 'support': 16614}\n",
            "\n",
            "Epochs: 2 | val Loss: 0.040430307388305664 | val Accuracy: 0.707 | val macro avg persision: {'precision': 0.5419197473118849, 'recall': 0.661328279238727, 'f1-score': 0.5611616413191841, 'support': 1000}\n",
            "\n",
            "Epochs: 3 | train Loss: 0.039856236428022385 | train Accuracy: 0.7356446370530878 | train macro avg persision: {'precision': 0.742205838466283, 'recall': 0.7356446370530878, 'f1-score': 0.7364420199125647, 'support': 16614}\n",
            "\n",
            "Epochs: 3 | val Loss: 0.040579695254564285 | val Accuracy: 0.704 | val macro avg persision: {'precision': 0.5352607273006789, 'recall': 0.6942904524994078, 'f1-score': 0.5613290129853099, 'support': 1000}\n",
            "\n",
            "Epochs: 4 | train Loss: 0.03826730698347092 | train Accuracy: 0.7482845792704947 | train macro avg persision: {'precision': 0.7550498353201899, 'recall': 0.7482845792704947, 'f1-score': 0.7486253071148052, 'support': 16614}\n",
            "\n",
            "Epochs: 4 | val Loss: 0.037680502980947495 | val Accuracy: 0.72 | val macro avg persision: {'precision': 0.5304590096922365, 'recall': 0.6655729290057648, 'f1-score': 0.5563583159789122, 'support': 1000}\n",
            "\n",
            "Epochs: 5 | train Loss: 0.0369606576859951 | train Accuracy: 0.7543637895750572 | train macro avg persision: {'precision': 0.7617543523270932, 'recall': 0.7543637895750571, 'f1-score': 0.7545427333363262, 'support': 16614}\n",
            "\n",
            "Epochs: 5 | val Loss: 0.03684670105576515 | val Accuracy: 0.739 | val macro avg persision: {'precision': 0.5369422051729108, 'recall': 0.6580628603016662, 'f1-score': 0.5668563984353457, 'support': 1000}\n",
            "\n",
            "Epochs: 6 | train Loss: 0.03606049343943596 | train Accuracy: 0.7658601179727941 | train macro avg persision: {'precision': 0.773309868691933, 'recall': 0.7658601179727941, 'f1-score': 0.7654504903334981, 'support': 16614}\n",
            "\n",
            "Classification Report:               precision    recall  f1-score   support\n",
            "\n",
            "     Neutral     0.7139    0.7458    0.7295      5538\n",
            "    Positive     0.8582    0.6963    0.7688      5538\n",
            "    Negative     0.7478    0.8555    0.7980      5538\n",
            "\n",
            "    accuracy                         0.7659     16614\n",
            "   macro avg     0.7733    0.7659    0.7655     16614\n",
            "weighted avg     0.7733    0.7659    0.7655     16614\n",
            "\n",
            "\n",
            "Epochs: 6 | val Loss: 0.03979366645216942 | val Accuracy: 0.731 | val macro avg persision: {'precision': 0.5452676824445277, 'recall': 0.6900971333807154, 'f1-score': 0.576022465868013, 'support': 1000}\n",
            "\n",
            "Classification Report:               precision    recall  f1-score   support\n",
            "\n",
            "     Neutral     0.3824    0.6190    0.4727       126\n",
            "    Positive     0.9618    0.7512    0.8436       804\n",
            "    Negative     0.2917    0.7000    0.4118        70\n",
            "\n",
            "    accuracy                         0.7310      1000\n",
            "   macro avg     0.5453    0.6901    0.5760      1000\n",
            "weighted avg     0.8419    0.7310    0.7666      1000\n",
            "\n",
            "\n",
            "Epochs: 7 | train Loss: 0.035135067999362946 | train Accuracy: 0.771397616468039 | train macro avg persision: {'precision': 0.7795325465812312, 'recall': 0.7713976164680391, 'f1-score': 0.7711078241042131, 'support': 16614}\n",
            "\n",
            "Epochs: 7 | val Loss: 0.036443281918764114 | val Accuracy: 0.745 | val macro avg persision: {'precision': 0.5412830847543021, 'recall': 0.6585485272052436, 'f1-score': 0.5716950409059999, 'support': 1000}\n",
            "\n",
            "Epochs: 8 | train Loss: 0.034704651683568954 | train Accuracy: 0.7718189478752859 | train macro avg persision: {'precision': 0.7789378851999142, 'recall': 0.7718189478752858, 'f1-score': 0.7711552449389486, 'support': 16614}\n",
            "\n",
            "Epochs: 8 | val Loss: 0.0384945385158062 | val Accuracy: 0.74 | val macro avg persision: {'precision': 0.5492209088031846, 'recall': 0.678899155018558, 'f1-score': 0.5814433633349435, 'support': 1000}\n",
            "\n",
            "Epochs: 9 | train Loss: 0.033750906586647034 | train Accuracy: 0.7812688094378235 | train macro avg persision: {'precision': 0.7886288194544314, 'recall': 0.7812688094378236, 'f1-score': 0.7804737809669792, 'support': 16614}\n",
            "\n",
            "Epochs: 9 | val Loss: 0.03580259904265404 | val Accuracy: 0.755 | val macro avg persision: {'precision': 0.5497255348911407, 'recall': 0.6648108663034037, 'f1-score': 0.5820917070917071, 'support': 1000}\n",
            "\n",
            "Epochs: 10 | train Loss: 0.033005490899086 | train Accuracy: 0.7826531840616348 | train macro avg persision: {'precision': 0.7894490097777064, 'recall': 0.7826531840616348, 'f1-score': 0.7814940451271396, 'support': 16614}\n",
            "\n",
            "Epochs: 10 | val Loss: 0.03857313469052315 | val Accuracy: 0.749 | val macro avg persision: {'precision': 0.5479847660154565, 'recall': 0.675250730474611, 'f1-score': 0.5787319695417042, 'support': 1000}\n",
            "\n",
            "Epochs: 11 | train Loss: 0.032561734318733215 | train Accuracy: 0.7869868785361743 | train macro avg persision: {'precision': 0.7942981914747129, 'recall': 0.7869868785361743, 'f1-score': 0.7856867398722578, 'support': 16614}\n",
            "\n",
            "Classification Report:               precision    recall  f1-score   support\n",
            "\n",
            "     Neutral     0.7457    0.7719    0.7586      5538\n",
            "    Positive     0.8714    0.6963    0.7741      5538\n",
            "    Negative     0.7658    0.8927    0.8244      5538\n",
            "\n",
            "    accuracy                         0.7870     16614\n",
            "   macro avg     0.7943    0.7870    0.7857     16614\n",
            "weighted avg     0.7943    0.7870    0.7857     16614\n",
            "\n",
            "\n",
            "Epochs: 11 | val Loss: 0.03747527673840523 | val Accuracy: 0.758 | val macro avg persision: {'precision': 0.5641280475502946, 'recall': 0.6925965411040038, 'f1-score': 0.599945154772214, 'support': 1000}\n",
            "\n",
            "Classification Report:               precision    recall  f1-score   support\n",
            "\n",
            "     Neutral     0.3732    0.6190    0.4657       126\n",
            "    Positive     0.9576    0.7873    0.8642       804\n",
            "    Negative     0.3615    0.6714    0.4700        70\n",
            "\n",
            "    accuracy                         0.7580      1000\n",
            "   macro avg     0.5641    0.6926    0.5999      1000\n",
            "weighted avg     0.8423    0.7580    0.7864      1000\n",
            "\n",
            "\n",
            "Epochs: 12 | train Loss: 0.032025501132011414 | train Accuracy: 0.7890935355724088 | train macro avg persision: {'precision': 0.7957506248390195, 'recall': 0.7890935355724088, 'f1-score': 0.7879095845774309, 'support': 16614}\n",
            "\n",
            "Epochs: 12 | val Loss: 0.039133522659540176 | val Accuracy: 0.741 | val macro avg persision: {'precision': 0.5562432973189275, 'recall': 0.6882373845060412, 'f1-score': 0.5890232752828173, 'support': 1000}\n",
            "\n",
            "Epochs: 13 | train Loss: 0.03151731938123703 | train Accuracy: 0.7961959792945709 | train macro avg persision: {'precision': 0.8023344005311035, 'recall': 0.7961959792945709, 'f1-score': 0.794939161725284, 'support': 16614}\n",
            "\n",
            "Epochs: 13 | val Loss: 0.035978108644485474 | val Accuracy: 0.773 | val macro avg persision: {'precision': 0.5683568741385104, 'recall': 0.6789662797125483, 'f1-score': 0.6028696079314676, 'support': 1000}\n",
            "\n",
            "Epochs: 14 | train Loss: 0.03100450709462166 | train Accuracy: 0.7948116046707596 | train macro avg persision: {'precision': 0.8012418154802745, 'recall': 0.7948116046707595, 'f1-score': 0.7935048492120838, 'support': 16614}\n",
            "\n",
            "Epochs: 14 | val Loss: 0.037472207099199295 | val Accuracy: 0.769 | val macro avg persision: {'precision': 0.5656802721088435, 'recall': 0.6579167653794519, 'f1-score': 0.5966688008579296, 'support': 1000}\n",
            "\n",
            "Epochs: 15 | train Loss: 0.03071618638932705 | train Accuracy: 0.8001685325628988 | train macro avg persision: {'precision': 0.8072738851511053, 'recall': 0.8001685325628988, 'f1-score': 0.7989533852613716, 'support': 16614}\n",
            "\n",
            "Epochs: 15 | val Loss: 0.04203089326620102 | val Accuracy: 0.746 | val macro avg persision: {'precision': 0.5583537112500863, 'recall': 0.7008923635789307, 'f1-score': 0.593885692513206, 'support': 1000}\n",
            "\n",
            "Epochs: 16 | train Loss: 0.03101804107427597 | train Accuracy: 0.7948116046707596 | train macro avg persision: {'precision': 0.8013725775550915, 'recall': 0.7948116046707597, 'f1-score': 0.7931903098844136, 'support': 16614}\n",
            "\n",
            "Classification Report:               precision    recall  f1-score   support\n",
            "\n",
            "     Neutral     0.7544    0.7739    0.7641      5538\n",
            "    Positive     0.8735    0.7017    0.7782      5538\n",
            "    Negative     0.7762    0.9088    0.8373      5538\n",
            "\n",
            "    accuracy                         0.7948     16614\n",
            "   macro avg     0.8014    0.7948    0.7932     16614\n",
            "weighted avg     0.8014    0.7948    0.7932     16614\n",
            "\n",
            "\n",
            "Epochs: 16 | val Loss: 0.04203850030899048 | val Accuracy: 0.738 | val macro avg persision: {'precision': 0.5516026313588939, 'recall': 0.6911119008133934, 'f1-score': 0.5845808627612118, 'support': 1000}\n",
            "\n",
            "Classification Report:               precision    recall  f1-score   support\n",
            "\n",
            "     Neutral     0.3673    0.6587    0.4716       126\n",
            "    Positive     0.9636    0.7575    0.8482       804\n",
            "    Negative     0.3239    0.6571    0.4340        70\n",
            "\n",
            "    accuracy                         0.7380      1000\n",
            "   macro avg     0.5516    0.6911    0.5846      1000\n",
            "weighted avg     0.8437    0.7380    0.7717      1000\n",
            "\n",
            "\n",
            "Epochs: 17 | train Loss: 0.030694525688886642 | train Accuracy: 0.8017936679908511 | train macro avg persision: {'precision': 0.8089302927081304, 'recall': 0.8017936679908511, 'f1-score': 0.800335245997407, 'support': 16614}\n",
            "\n",
            "Epochs: 17 | val Loss: 0.0388760045170784 | val Accuracy: 0.757 | val macro avg persision: {'precision': 0.5568775354220094, 'recall': 0.679140014214641, 'f1-score': 0.5906369637554117, 'support': 1000}\n",
            "\n",
            "Epochs: 18 | train Loss: 0.03044750541448593 | train Accuracy: 0.8000481521608283 | train macro avg persision: {'precision': 0.8075401435395735, 'recall': 0.8000481521608283, 'f1-score': 0.7988052938250703, 'support': 16614}\n",
            "\n",
            "Epochs: 18 | val Loss: 0.040704578161239624 | val Accuracy: 0.752 | val macro avg persision: {'precision': 0.5554346726892739, 'recall': 0.6838742793966675, 'f1-score': 0.5888066358126238, 'support': 1000}\n",
            "\n",
            "Epochs: 19 | train Loss: 0.029907915741205215 | train Accuracy: 0.804201276032262 | train macro avg persision: {'precision': 0.8114370018281917, 'recall': 0.8042012760322619, 'f1-score': 0.8027697960848806, 'support': 16614}\n",
            "\n",
            "Epochs: 19 | val Loss: 0.04067719355225563 | val Accuracy: 0.757 | val macro avg persision: {'precision': 0.5645965145965146, 'recall': 0.6944128563531549, 'f1-score': 0.6007533177205308, 'support': 1000}\n",
            "\n",
            "Epochs: 20 | train Loss: 0.02980649471282959 | train Accuracy: 0.8081136390995546 | train macro avg persision: {'precision': 0.8143627911056955, 'recall': 0.8081136390995546, 'f1-score': 0.8066103217815699, 'support': 16614}\n",
            "\n",
            "Epochs: 20 | val Loss: 0.04135715216398239 | val Accuracy: 0.789 | val macro avg persision: {'precision': 0.5838608013550354, 'recall': 0.676905156755903, 'f1-score': 0.6170076923502729, 'support': 1000}\n",
            "\n"
          ]
        }
      ],
      "source": [
        "# Trianing for stance detection\n",
        "train(model, train_dataset, val_dataset, criterion=criterion, optimizer=optimizer, classes_names=list(utils.stance_classes.keys()), n_classes=3, epochs=20)"
      ]
    }
  ],
  "metadata": {
    "accelerator": "GPU",
    "colab": {
      "provenance": []
    },
    "gpuClass": "standard",
    "kernelspec": {
      "display_name": "Python 3",
      "language": "python",
      "name": "python3"
    },
    "language_info": {
      "codemirror_mode": {
        "name": "ipython",
        "version": 3
      },
      "file_extension": ".py",
      "mimetype": "text/x-python",
      "name": "python",
      "nbconvert_exporter": "python",
      "pygments_lexer": "ipython3",
      "version": "3.10.8 (tags/v3.10.8:aaaf517, Oct 11 2022, 16:50:30) [MSC v.1933 64 bit (AMD64)]"
    },
    "orig_nbformat": 4,
    "vscode": {
      "interpreter": {
        "hash": "afb734500600fd355917ca529030176ea0ca205570884b88f2f6f7d791fd3fbe"
      }
    }
  },
  "nbformat": 4,
  "nbformat_minor": 0
}
