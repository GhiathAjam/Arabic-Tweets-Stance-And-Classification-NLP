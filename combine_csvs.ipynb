{
 "cells": [
  {
   "cell_type": "code",
   "execution_count": 2,
   "metadata": {},
   "outputs": [],
   "source": [
    "import pandas as pd\n",
    "import csv"
   ]
  },
  {
   "cell_type": "code",
   "execution_count": 3,
   "metadata": {},
   "outputs": [],
   "source": [
    "text = pd.read_csv('Dataset/test.csv')\n",
    "stance = pd.read_csv('out/bert2_test_stance_NO_preprocess.csv')\n",
    "stance2 = pd.read_csv('out/bert2_test_stance_preprocess.csv')\n",
    "cat = pd.read_csv('out/test_cat.csv')\n",
    "\n",
    "# change cat stance column name to category\n",
    "cat = cat.rename(columns={'stance': 'category'})"
   ]
  },
  {
   "cell_type": "code",
   "execution_count": 4,
   "metadata": {},
   "outputs": [
    {
     "name": "stdout",
     "output_type": "stream",
     "text": [
      "   id                                               text\n",
      "0   0  بيل غيتس يعلن عن تلقيه الجرعة الأولى من اللقاح...\n",
      "1   1              محتاجين لقاح يقاوم الإفراط في التفكير\n",
      "2   2  - إحنا نخلي لقاح فايزر الأمريكي <LF>للمسئولين ...\n",
      "3   3  متحدث الصحة: أخذ لقاح كورونا ليس شرطاً للسماح ...\n",
      "4   4  131,939 جرعة من لقاح #كوفيد19 تم تقديمها خلال ...\n",
      "\n",
      "   id  stance\n",
      "0   0       1\n",
      "1   1       0\n",
      "2   2       1\n",
      "3   3       1\n",
      "4   4       1\n",
      "\n",
      "   id  stance\n",
      "0   0       1\n",
      "1   1       0\n",
      "2   2       1\n",
      "3   3       1\n",
      "4   4       1\n",
      "\n",
      "   id      category\n",
      "0   0     celebrity\n",
      "1   1     unrelated\n",
      "2   2     info_news\n",
      "3   3  restrictions\n",
      "4   4  restrictions\n"
     ]
    }
   ],
   "source": [
    "print(text.head())\n",
    "print()\n",
    "print(stance.head())\n",
    "print()\n",
    "print(stance2.head())\n",
    "print()\n",
    "print(cat.head())"
   ]
  },
  {
   "cell_type": "code",
   "execution_count": 5,
   "metadata": {},
   "outputs": [],
   "source": [
    "# combine where id is the same\n",
    "stance_cat = pd.merge(stance, cat, on='id')\n",
    "stance2_cat = pd.merge(stance2, cat, on='id')\n",
    "text_stance_cat = pd.merge(text, stance_cat, on='id')\n",
    "text_stance2_cat = pd.merge(text, stance2_cat, on='id')"
   ]
  },
  {
   "cell_type": "code",
   "execution_count": 6,
   "metadata": {},
   "outputs": [
    {
     "name": "stdout",
     "output_type": "stream",
     "text": [
      "   id                                               text  stance      category\n",
      "0   0  بيل غيتس يعلن عن تلقيه الجرعة الأولى من اللقاح...       1     celebrity\n",
      "1   1              محتاجين لقاح يقاوم الإفراط في التفكير       0     unrelated\n",
      "2   2  - إحنا نخلي لقاح فايزر الأمريكي <LF>للمسئولين ...       1     info_news\n",
      "3   3  متحدث الصحة: أخذ لقاح كورونا ليس شرطاً للسماح ...       1  restrictions\n",
      "4   4  131,939 جرعة من لقاح #كوفيد19 تم تقديمها خلال ...       1  restrictions\n",
      "\n",
      "   id                                               text  stance      category\n",
      "0   0  بيل غيتس يعلن عن تلقيه الجرعة الأولى من اللقاح...       1     celebrity\n",
      "1   1              محتاجين لقاح يقاوم الإفراط في التفكير       0     unrelated\n",
      "2   2  - إحنا نخلي لقاح فايزر الأمريكي <LF>للمسئولين ...       1     info_news\n",
      "3   3  متحدث الصحة: أخذ لقاح كورونا ليس شرطاً للسماح ...       1  restrictions\n",
      "4   4  131,939 جرعة من لقاح #كوفيد19 تم تقديمها خلال ...       1  restrictions\n"
     ]
    }
   ],
   "source": [
    "print(text_stance_cat.head())\n",
    "print()\n",
    "print(text_stance2_cat.head())"
   ]
  },
  {
   "cell_type": "code",
   "execution_count": 13,
   "metadata": {},
   "outputs": [
    {
     "name": "stdout",
     "output_type": "stream",
     "text": [
      "   id                                               text  stance  \\\n",
      "0   0  بيل غيتس يعلن عن تلقيه الجرعة الأولى من اللقاح...       1   \n",
      "1   1              محتاجين لقاح يقاوم الإفراط في التفكير       0   \n",
      "2   2  - إحنا نخلي لقاح فايزر الأمريكي <LF>للمسئولين ...       1   \n",
      "3   3  متحدث الصحة: أخذ لقاح كورونا ليس شرطاً للسماح ...       1   \n",
      "4   4  131,939 جرعة من لقاح #كوفيد19 تم تقديمها خلال ...       1   \n",
      "\n",
      "       category  stance2  \n",
      "0     celebrity        1  \n",
      "1     unrelated        0  \n",
      "2     info_news        1  \n",
      "3  restrictions        1  \n",
      "4  restrictions        1  \n"
     ]
    }
   ],
   "source": [
    "# reanme stance2 column\n",
    "stance2 = stance2.rename(columns={'stance': 'stance2'})\n",
    "text_stance12_cat = pd.merge(text_stance_cat, stance2, on='id')\n",
    "print(text_stance12_cat.head())"
   ]
  },
  {
   "cell_type": "code",
   "execution_count": 16,
   "metadata": {},
   "outputs": [],
   "source": [
    "# # print where stance_x and stance_y different\n",
    "# diff = text_stance12_cat[text_stance12_cat['stance'] != text_stance12_cat['stance2']]\n",
    "\n",
    "diff.to_csv('out/diff.csv', index=False, sep=',')"
   ]
  },
  {
   "cell_type": "code",
   "execution_count": null,
   "metadata": {},
   "outputs": [],
   "source": [
    "# # write to csv\n",
    "# stance_cat.to_csv('out/stance_cat.csv', index=False)\n",
    "# stance2_cat.to_csv('out/stance2_cat.csv', index=False)\n",
    "# text_stance_cat.to_csv('out/text_stance_cat.csv', index=False)\n",
    "# text_stance2_cat.to_csv('out/text_stance2_cat.csv', index=False)"
   ]
  }
 ],
 "metadata": {
  "kernelspec": {
   "display_name": "Python 3.10.3 64-bit",
   "language": "python",
   "name": "python3"
  },
  "language_info": {
   "codemirror_mode": {
    "name": "ipython",
    "version": 3
   },
   "file_extension": ".py",
   "mimetype": "text/x-python",
   "name": "python",
   "nbconvert_exporter": "python",
   "pygments_lexer": "ipython3",
   "version": "3.10.3"
  },
  "orig_nbformat": 4,
  "vscode": {
   "interpreter": {
    "hash": "26de051ba29f2982a8de78e945f0abaf191376122a1563185a90213a26c5da77"
   }
  }
 },
 "nbformat": 4,
 "nbformat_minor": 2
}
