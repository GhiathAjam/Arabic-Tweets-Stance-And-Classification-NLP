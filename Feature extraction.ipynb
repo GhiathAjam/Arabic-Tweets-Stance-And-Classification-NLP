{
 "cells": [
  {
   "cell_type": "markdown",
   "metadata": {},
   "source": [
    "Feature Extraction"
   ]
  },
  {
   "cell_type": "markdown",
   "metadata": {},
   "source": [
    "Bag-of-Words"
   ]
  },
  {
   "cell_type": "code",
   "execution_count": 1,
   "metadata": {},
   "outputs": [],
   "source": [
    "# Bag of words model  (BOW)\n",
    "# represent all the bags in a matrix of size (number of bags, number of words in the vocabulary) \n",
    "# each row is a bag and each column is a word in the vocabulary\n",
    "# the value in each cell is the number of times the word appears in the bag\n",
    "# the vocabulary is the set of all the words in the corpus\n",
    "# the corpus is the set of all the bags\n",
    "# the number of bags is the number of documents in the corpus\n",
    "# the number of words in the vocabulary is the number of unique words in the corpus\n",
    "\n",
    "\n",
    "# TF-IDF model\n",
    "# Word2Vec model\n"
   ]
  },
  {
   "cell_type": "code",
   "execution_count": 1,
   "metadata": {},
   "outputs": [
    {
     "name": "stdout",
     "output_type": "stream",
     "text": [
      "Emojis:  True\n",
      "Lemmatizor:  camel\n"
     ]
    }
   ],
   "source": [
    "import pandas as pd\n",
    "import nltk\n",
    "from sklearn.feature_extraction.text import CountVectorizer\n",
    "from preprocess import Preprocess \n",
    "preprocess = Preprocess()"
   ]
  },
  {
   "cell_type": "code",
   "execution_count": 3,
   "metadata": {},
   "outputs": [],
   "source": [
    "# nltk.download('stopwords')\n"
   ]
  },
  {
   "cell_type": "code",
   "execution_count": 4,
   "metadata": {},
   "outputs": [],
   "source": [
    "# read the data\n",
    "t = pd.read_csv('./Dataset/train.csv')\n",
    "X = t['text']"
   ]
  },
  {
   "cell_type": "code",
   "execution_count": 3,
   "metadata": {
    "collapsed": true
   },
   "outputs": [],
   "source": [
    "# do the preprocessing\n",
    "X = X.apply(preprocess.do_all)"
   ]
  },
  {
   "cell_type": "code",
   "execution_count": 6,
   "metadata": {
    "scrolled": true
   },
   "outputs": [
    {
     "name": "stdout",
     "output_type": "stream",
     "text": [
      "['بِيل', 'غيتس', 'تَلَقَّى', 'لَقاح', 'تَصْوِير', 'إِبْرَة', 'السيرنجه', 'دَواء', 'لابَس', 'بُولُو', 'صَيْفِيّ', 'عِزّ', 'شِتاء', 'قال', 'أَحَد', 'مَزِيَّة', 'عُمَر', 'ال', 'عام', 'مُؤَهَّل', 'حُصُول', 'لَقاح', 'عَنَى', 'ٱِحْتاج', 'لَقاح', 'عُمْر', 'أَصْغَر', '<NUM>', '<NUM>', '<NUM>', '<thinking_face>', '<LINK>', 'كوفيد', 'كوفيد']\n",
      "['وَزِير', 'صِحَّة', 'لَحَد', 'يَوْم', 'تَحْدِيد', 'بمؤتمروا', 'صُحُفِيّ', 'مُشْكِلَة', 'مَعا', 'آن', 'بفايزر', 'لَقاح', 'وَحِيد', 'عالَم', 'حُبَيْبِيّ', 'هاي', 'أَفاق', 'واضِح', 'عَفْو', 'عَنَى', 'مَشّ', 'آن', 'مَجْبُور', 'قادِر', 'أَجْبَر', 'دَوْلَة', 'مارِق', 'دَفَع', 'مَصارِيّ', 'أَجاب', 'لَقاح', 'تَأَنِّي', 'يلا', '<LF>', '<LF>', '<LF>', '<LF>']\n"
     ]
    }
   ],
   "source": [
    "print(X[0])\n",
    "print(X[1])"
   ]
  },
  {
   "cell_type": "code",
   "execution_count": 6,
   "metadata": {},
   "outputs": [
    {
     "data": {
      "text/plain": [
       "<BarContainer object of 6988 artists>"
      ]
     },
     "execution_count": 6,
     "metadata": {},
     "output_type": "execute_result"
    },
    {
     "data": {
      "image/png": "[encoded data removed]",
      "text/plain": [
       "<Figure size 800x400 with 1 Axes>"
      ]
     },
     "metadata": {},
     "output_type": "display_data"
    }
   ],
   "source": [
    "# view distribution (biased data)\n",
    "import matplotlib.pyplot as plt\n",
    "\n",
    "distribution = X.apply(len)\n",
    "plt.figure(figsize=(8,4))\n",
    "plt.bar(distribution.index, distribution.values)"
   ]
  },
  {
   "cell_type": "code",
   "execution_count": 4,
   "metadata": {},
   "outputs": [],
   "source": [
    "# count vectorizer function takes sentences as input \n",
    "# convert it into matrix representation \n",
    "# where each cell will be filled by the frequency of each vocab\n",
    "# vectorizer = CountVectorizer()\n",
    "# bow_model = vectorizer.fit_transform(X)"
   ]
  },
  {
   "cell_type": "code",
   "execution_count": 8,
   "metadata": {},
   "outputs": [],
   "source": [
    "# print(bow_model.toarray())"
   ]
  },
  {
   "cell_type": "code",
   "execution_count": 9,
   "metadata": {
    "scrolled": true
   },
   "outputs": [],
   "source": [
    "# transform the matrx into pandas dataframe \n",
    "# to set the column names as actual vocab words which are our features\n",
    "# df_bow = pd.DataFrame(bow_model.toarray(), columns = vectorizer.get_feature_names())\n",
    "# df_bow"
   ]
  },
  {
   "cell_type": "code",
   "execution_count": 10,
   "metadata": {},
   "outputs": [],
   "source": [
    "#show all features (unique words)\n",
    "# print(vectorizer.get_feature_names())\n"
   ]
  },
  {
   "attachments": {},
   "cell_type": "markdown",
   "metadata": {},
   "source": [
    "Word2Vec"
   ]
  },
  {
   "cell_type": "code",
   "execution_count": 11,
   "metadata": {},
   "outputs": [],
   "source": [
    "# Word2vec is trained to predict the nearest word belongs to the context\n",
    "# e.g. to tell if \"milk\" is a likely word given the \"The cat was drinking...\"\n",
    "import gensim\n",
    "from gensim.models import Word2Vec\n",
    "import numpy as np"
   ]
  },
  {
   "cell_type": "code",
   "execution_count": 26,
   "metadata": {},
   "outputs": [
    {
     "name": "stdout",
     "output_type": "stream",
     "text": [
      "['<LF>', 'لَقاح', 'كَوَّر', '<LINK>', '<NUM>', 'جُرْعَة', 'صِحَّة', 'تَطْعِيم', 'تَلَقَّى', 'كوفيد', 'فَيْرُوس', 'اللَّه', 'يَوْم', 'فايزر', 'دَوْلَة', 'عاجِل', 'سَعُودِيّ', 'مِلْيُون', 'ضِدّ', '<Mt>', 'مَلِك', 'وِزارَة', 'ثانِي', 'وَزِير', 'أَراد', 'حَرَم', 'أَمارَة', 'خادِم', 'تَمّ', 'أَلْقَى', 'شَرِيف', 'عَرَبِيّ', 'مُواطِن', 'شَرِكَة', 'رَئِيس', 'مَمْلَكَة', 'عالَم', 'مُضادّ', 'أَمْرِيكِيّ', 'أَلْف', 'شَخْص', 'قال', 'شَعْب', 'شُكْر', '️', 'أُرْدُنّ', 'بَلَد', 'طِبِّيّ', 'سَبَب', 'أَعْلَن']\n",
      "0.75276804\n",
      "0.353998\n",
      "0.692091\n",
      "0.8022841\n",
      "0.6153619\n",
      "[('تَعْلِيم', 0.9447140097618103), ('صِحَّة', 0.9390547871589661), ('سعيدي', 0.9358798265457153), ('ٱِنْتِقالِيّ', 0.9188236594200134), ('رِياضَة', 0.9158366918563843), ('كورونا،بمشاركه', 0.9144365191459656), ('وِزارَة', 0.9093389511108398), ('سبق\":', 0.9048829674720764), ('مَتَع', 0.9047804474830627), ('تُرْكِيّ', 0.9043036699295044)]\n",
      "[('عَبْدُه', 0.9824407696723938), ('رِياض', 0.9721140265464783), ('<camera_with_flash>', 0.9695516228675842), ('فِيدْيُو', 0.9671887755393982), ('سَلْمان', 0.9645455479621887), ('بَنْدَر', 0.9595059752464294), ('مُحَمَّد', 0.9552122354507446), ('كورونا.', 0.9550942778587341), ('عَبْدالعَزِيز', 0.9515411257743835), ('صُور', 0.9514914751052856)]\n",
      "[('مُقِيم', 0.9928298592567444), ('نَفَّذ', 0.9512816071510315), ('تِلْقائِيّ', 0.9432839155197144), ('الحوسني', 0.937658429145813), ('رُبْع', 0.937592089176178), ('الوطن🇸🇦', 0.9321344494819641), ('وِقايَة', 0.9290103316307068), ('السلطنه.', 0.9283609390258789), ('أَبُوظَبِي', 0.9278252720832825), ('دُبَيّ', 0.9238947629928589)]\n",
      "[('رَجَب', 0.9651460647583008), ('كورونا...', 0.9650684595108032), ('مَجْلِس', 0.9647063612937927), ('نِتانْياهُو', 0.962699830532074), ('مُحَمَّل', 0.9585187435150146), ('دَنِمارْكِيّ', 0.9560869932174683), ('طَيِّب', 0.9540435075759888), ('زار', 0.9535356163978577), ('نَمْساوِيّ', 0.9528730511665344), ('قوجه', 0.9499332308769226)]\n",
      "[('سبوتنيك\"', 0.9590932726860046), ('بَرْق', 0.9520609974861145), ('ٱِخْتار', 0.9470882415771484), ('شارِقَة', 0.9444612264633179), ('عَمِيد', 0.93378084897995), ('زايد:', 0.9221763014793396), ('يَد', 0.9196900129318237), ('تَخَطَّى', 0.9169811606407166), ('<bouquet>', 0.905756413936615), ('Pfizer؟', 0.9016251564025879)]\n"
     ]
    }
   ],
   "source": [
    "# Create CBOW (Continuous Bag of Words) model \n",
    "model_cbow = Word2Vec(X, min_count = 1, vector_size = 300, window = 5) \n",
    "# applied on the preprocessed data X\n",
    "# print(model_cbow)\n",
    "# words_cbow = list(model_cbow.wv.index_to_key)\n",
    "print(words_cbow[:50])\n",
    "# cosine similarity\n",
    "print(model_cbow.wv.similarity('وَزِير', 'مَلِك'))\n",
    "print(model_cbow.wv.similarity('وَزِير', 'أَمارَة'))\n",
    "print(model_cbow.wv.similarity('وَزِير', 'مُواطِن'))\n",
    "print(model_cbow.wv.similarity('وَزِير', 'رَئِيس'))\n",
    "print(model_cbow.wv.similarity('مَلِك', 'رَئِيس'))\n",
    "\n",
    "# most similar words\n",
    "print(model_cbow.wv.most_similar('وَزِير'))\n",
    "print(model_cbow.wv.most_similar('مَلِك'))\n",
    "print(model_cbow.wv.most_similar('مُواطِن'))\n",
    "print(model_cbow.wv.most_similar('رَئِيس'))\n",
    "print(model_cbow.wv.most_similar('أَمارَة'))\n",
    "\n",
    "\n",
    "# print the vector of a word\n",
    "# print(model_cbow.wv.get_vector('مِن'))\n",
    "# print(len(model_cbow.wv[model_cbow.wv.index_to_key]))"
   ]
  },
  {
   "cell_type": "code",
   "execution_count": null,
   "metadata": {},
   "outputs": [],
   "source": [
    "# create skip-gram model (SG) \n",
    "model_sg = Word2Vec(X, min_count = 1, vector_size = 300, window = 5, sg=2) \n",
    "# applied on the preprocessed data X\n",
    "# print(model_sg)\n",
    "# words_sg = list(model_sg.wv.index_to_key)\n",
    "# print(words_sg[0:5])\n",
    "\n",
    "# print the vector of a word\n",
    "# print(model_sg.wv['مِن'])\n",
    "\n",
    "# model_sg.wv['word']: has the vector of the word"
   ]
  },
  {
   "cell_type": "code",
   "execution_count": null,
   "metadata": {},
   "outputs": [],
   "source": [
    "# don't apply mean for the LSTM/RNN models\n",
    "def get_mean_vector(word2vec_model, words):\n",
    "    # remove out-of-vocabulary words\n",
    "    words = [word for word in words if word in word2vec_model.wv.index_to_key]\n",
    "    if len(words) >= 1:\n",
    "        return np.mean(word2vec_model.wv[words], axis=0)\n",
    "    else:\n",
    "        return []"
   ]
  },
  {
   "cell_type": "code",
   "execution_count": null,
   "metadata": {},
   "outputs": [],
   "source": [
    "# get the vector of the first sentence\n",
    "get_mean_vector(model_cbow, X[0])"
   ]
  },
  {
   "cell_type": "code",
   "execution_count": null,
   "metadata": {},
   "outputs": [],
   "source": [
    "get_mean_vector(model_sg, X[0])"
   ]
  },
  {
   "cell_type": "code",
   "execution_count": null,
   "metadata": {},
   "outputs": [],
   "source": [
    "# append the vectors of all sentences to a list\n",
    "vectors_cbow = []\n",
    "vectors_sg = []\n",
    "# get the vector of all sentences \n",
    "for sentence in X:\n",
    "    vec = get_mean_vector(model_cbow, sentence)\n",
    "    if len(vec) > 0:\n",
    "        vectors_cbow.append(vec)\n",
    "\n",
    "for sentence in X:\n",
    "    vec = get_mean_vector(model_sg, sentence)\n",
    "    if len(vec) > 0:\n",
    "        vectors_sg.append(vec)\n"
   ]
  },
  {
   "cell_type": "code",
   "execution_count": null,
   "metadata": {},
   "outputs": [],
   "source": []
  }
 ],
 "metadata": {
  "kernelspec": {
   "display_name": "Python 3",
   "language": "python",
   "name": "python3"
  },
  "language_info": {
   "codemirror_mode": {
    "name": "ipython",
    "version": 3
   },
   "file_extension": ".py",
   "mimetype": "text/x-python",
   "name": "python",
   "nbconvert_exporter": "python",
   "pygments_lexer": "ipython3",
   "version": "3.10.3"
  },
  "vscode": {
   "interpreter": {
    "hash": "54d93ce000fb5f8fcca2dab3e75c99c50bb371be07ecadf3a0d8d467af599caa"
   }
  }
 },
 "nbformat": 4,
 "nbformat_minor": 2
}
